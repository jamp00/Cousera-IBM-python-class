{
 "cells": [
  {
   "cell_type": "code",
   "execution_count": 3,
   "metadata": {},
   "outputs": [],
   "source": [
    "# The problem:\n",
    "# Here in my country we have two day of holidays more the days of the weekend, so we have 5 day of holidays.\n",
    "#   Everybody will go out of the city.\n",
    "#\n",
    "# The problem is: ¿where i going to?\n",
    "# I like two cities \"Viña del mar\" and \"La ligua\" and the selection criteria will be restaurantes,\n",
    "#   the number of restaurant in each city, so:\n",
    "#\n",
    "#    1.- Search for a hostel closer to the center of the city\n",
    "#\n",
    "#    2.- Search the number of restaurant 500 ft arraund\n"
   ]
  },
  {
   "cell_type": "code",
   "execution_count": 4,
   "metadata": {},
   "outputs": [],
   "source": [
    "\n",
    "import pandas as pd\n",
    "import numpy  as np\n",
    "\n",
    "import requests                          # library to handle requests\n",
    "from pandas.io.json import json_normalize\n",
    "from geopy.geocoders import Nominatim # module to convert an address into latitude and longitude values\n",
    "import folium                            # plotting library\n"
   ]
  },
  {
   "cell_type": "markdown",
   "metadata": {},
   "source": [
    "### Credentials for Foursquare\n"
   ]
  },
  {
   "cell_type": "code",
   "execution_count": 5,
   "metadata": {},
   "outputs": [
    {
     "name": "stdout",
     "output_type": "stream",
     "text": [
      "Your credentails:\n",
      "CLIENT_ID: WDKVMU4XRDDSFDYUT2EZT5J1HEOY2GZJSED3DERKVXZVZQPB\n",
      "CLIENT_SECRET:0JETOZ2PW3A21GPGVWIC02UKJM3JMOEUNQK0NAL0P4HSO04F\n"
     ]
    }
   ],
   "source": [
    "\n",
    "CLIENT_ID = 'WDKVMU4XRDDSFDYUT2EZT5J1HEOY2GZJSED3DERKVXZVZQPB'\n",
    "CLIENT_SECRET = '0JETOZ2PW3A21GPGVWIC02UKJM3JMOEUNQK0NAL0P4HSO04F'\n",
    "VERSION = '20190825'\n",
    "LIMIT = 30\n",
    "print('Your credentails:')\n",
    "print('CLIENT_ID: ' + CLIENT_ID)\n",
    "print('CLIENT_SECRET:' + CLIENT_SECRET)"
   ]
  },
  {
   "cell_type": "markdown",
   "metadata": {},
   "source": [
    "\n",
    "\n",
    "### Now we search the number of restaurants in Viña del Mar\n",
    "\n",
    "#### 1.- We search a Hotel in Viña del Mar"
   ]
  },
  {
   "cell_type": "code",
   "execution_count": 116,
   "metadata": {},
   "outputs": [
    {
     "name": "stdout",
     "output_type": "stream",
     "text": [
      "-33.0152001 -71.5535746\n"
     ]
    }
   ],
   "source": [
    "address = 'Viña del Mar, Chile, CL'\n",
    "\n",
    "geolocator = Nominatim(user_agent=\"foursquare_agent\")\n",
    "location   = geolocator.geocode(address)\n",
    "latitude   = location.latitude\n",
    "longitude  = location.longitude\n",
    "\n",
    "# Directly from Google Maps\n",
    "latitude   = -33.0152001\n",
    "longitude  = -71.5535746\n",
    "\n",
    "print(latitude, longitude)"
   ]
  },
  {
   "cell_type": "code",
   "execution_count": 117,
   "metadata": {},
   "outputs": [
    {
     "data": {
      "text/plain": [
       "'https://api.foursquare.com/v2/venues/search?client_id=WDKVMU4XRDDSFDYUT2EZT5J1HEOY2GZJSED3DERKVXZVZQPB&client_secret=0JETOZ2PW3A21GPGVWIC02UKJM3JMOEUNQK0NAL0P4HSO04F&ll=-33.0152001,-71.5535746&v=20190825&query=Hotel&radius=500&limit=30'"
      ]
     },
     "execution_count": 117,
     "metadata": {},
     "output_type": "execute_result"
    }
   ],
   "source": [
    "search_query = 'Hotel'\n",
    "radius = 500\n",
    "\n",
    "url = 'https://api.foursquare.com/v2/venues/search?client_id={}&client_secret={}&ll={},{}&v={}&query={}&radius={}&limit={}'.format(CLIENT_ID, CLIENT_SECRET, latitude, longitude, VERSION, search_query, radius, LIMIT)\n",
    "url"
   ]
  },
  {
   "cell_type": "code",
   "execution_count": 125,
   "metadata": {},
   "outputs": [],
   "source": [
    "results = requests.get(url).json()\n",
    "#results"
   ]
  },
  {
   "cell_type": "code",
   "execution_count": 126,
   "metadata": {},
   "outputs": [
    {
     "data": {
      "text/html": [
       "<div>\n",
       "<style scoped>\n",
       "    .dataframe tbody tr th:only-of-type {\n",
       "        vertical-align: middle;\n",
       "    }\n",
       "\n",
       "    .dataframe tbody tr th {\n",
       "        vertical-align: top;\n",
       "    }\n",
       "\n",
       "    .dataframe thead th {\n",
       "        text-align: right;\n",
       "    }\n",
       "</style>\n",
       "<table border=\"1\" class=\"dataframe\">\n",
       "  <thead>\n",
       "    <tr style=\"text-align: right;\">\n",
       "      <th></th>\n",
       "      <th>categories</th>\n",
       "      <th>hasPerk</th>\n",
       "      <th>id</th>\n",
       "      <th>location.address</th>\n",
       "      <th>location.cc</th>\n",
       "      <th>location.city</th>\n",
       "      <th>location.country</th>\n",
       "      <th>location.crossStreet</th>\n",
       "      <th>location.distance</th>\n",
       "      <th>location.formattedAddress</th>\n",
       "      <th>location.labeledLatLngs</th>\n",
       "      <th>location.lat</th>\n",
       "      <th>location.lng</th>\n",
       "      <th>location.postalCode</th>\n",
       "      <th>location.state</th>\n",
       "      <th>name</th>\n",
       "      <th>referralId</th>\n",
       "    </tr>\n",
       "  </thead>\n",
       "  <tbody>\n",
       "    <tr>\n",
       "      <th>0</th>\n",
       "      <td>[{'id': '4bf58dd8d48988d130941735', 'name': 'B...</td>\n",
       "      <td>False</td>\n",
       "      <td>4d963bbc2bd6f04d1bcd3150</td>\n",
       "      <td>4 norte 646</td>\n",
       "      <td>CL</td>\n",
       "      <td>Viña del Mar</td>\n",
       "      <td>Chile</td>\n",
       "      <td>1 poniente</td>\n",
       "      <td>501</td>\n",
       "      <td>[4 norte 646 (1 poniente), Viña del Mar, Valpa...</td>\n",
       "      <td>[{'label': 'display', 'lat': -33.0194478948408...</td>\n",
       "      <td>-33.019448</td>\n",
       "      <td>-71.551786</td>\n",
       "      <td>NaN</td>\n",
       "      <td>Valparaíso</td>\n",
       "      <td>Hotel Mare Nostrum</td>\n",
       "      <td>v-1567748183</td>\n",
       "    </tr>\n",
       "    <tr>\n",
       "      <th>1</th>\n",
       "      <td>[{'id': '4bf58dd8d48988d1fa931735', 'name': 'H...</td>\n",
       "      <td>False</td>\n",
       "      <td>5a6e326660d11b2a4c0ae95a</td>\n",
       "      <td>NaN</td>\n",
       "      <td>CL</td>\n",
       "      <td>Viña del Mar</td>\n",
       "      <td>Chile</td>\n",
       "      <td>NaN</td>\n",
       "      <td>197</td>\n",
       "      <td>[2520000 Viña del Mar, Valparaíso, Chile]</td>\n",
       "      <td>[{'label': 'display', 'lat': -33.0148735064648...</td>\n",
       "      <td>-33.014874</td>\n",
       "      <td>-71.555657</td>\n",
       "      <td>2520000</td>\n",
       "      <td>Valparaíso</td>\n",
       "      <td>Hotel Atton San Martin</td>\n",
       "      <td>v-1567748183</td>\n",
       "    </tr>\n",
       "    <tr>\n",
       "      <th>2</th>\n",
       "      <td>[{'id': '4bf58dd8d48988d1fa931735', 'name': 'H...</td>\n",
       "      <td>False</td>\n",
       "      <td>4c938ad972dd224bf5749191</td>\n",
       "      <td>Avda. San Martin 476</td>\n",
       "      <td>CL</td>\n",
       "      <td>Viña del Mar</td>\n",
       "      <td>Chile</td>\n",
       "      <td>NaN</td>\n",
       "      <td>383</td>\n",
       "      <td>[Avda. San Martin 476, Viña del Mar, Valparaís...</td>\n",
       "      <td>[{'label': 'display', 'lat': -33.0167117939947...</td>\n",
       "      <td>-33.016712</td>\n",
       "      <td>-71.557261</td>\n",
       "      <td>NaN</td>\n",
       "      <td>Valparaíso</td>\n",
       "      <td>Hotel Ankara</td>\n",
       "      <td>v-1567748183</td>\n",
       "    </tr>\n",
       "    <tr>\n",
       "      <th>3</th>\n",
       "      <td>[{'id': '4bf58dd8d48988d1fa931735', 'name': 'H...</td>\n",
       "      <td>False</td>\n",
       "      <td>4d6917ce4c4637045f2f9db3</td>\n",
       "      <td>NaN</td>\n",
       "      <td>CL</td>\n",
       "      <td>NaN</td>\n",
       "      <td>Chile</td>\n",
       "      <td>NaN</td>\n",
       "      <td>130</td>\n",
       "      <td>[Chile]</td>\n",
       "      <td>[{'label': 'display', 'lat': -33.0163576334832...</td>\n",
       "      <td>-33.016358</td>\n",
       "      <td>-71.553342</td>\n",
       "      <td>NaN</td>\n",
       "      <td>NaN</td>\n",
       "      <td>Hotel Vancouver</td>\n",
       "      <td>v-1567748183</td>\n",
       "    </tr>\n",
       "    <tr>\n",
       "      <th>4</th>\n",
       "      <td>[{'id': '4bf58dd8d48988d1f8931735', 'name': 'B...</td>\n",
       "      <td>False</td>\n",
       "      <td>5247693911d2f7417c1df973</td>\n",
       "      <td>NaN</td>\n",
       "      <td>CL</td>\n",
       "      <td>NaN</td>\n",
       "      <td>Chile</td>\n",
       "      <td>NaN</td>\n",
       "      <td>156</td>\n",
       "      <td>[Chile]</td>\n",
       "      <td>[{'label': 'display', 'lat': -33.015354, 'lng'...</td>\n",
       "      <td>-33.015354</td>\n",
       "      <td>-71.555245</td>\n",
       "      <td>NaN</td>\n",
       "      <td>NaN</td>\n",
       "      <td>Apart Hotel Rent A Home</td>\n",
       "      <td>v-1567748183</td>\n",
       "    </tr>\n",
       "  </tbody>\n",
       "</table>\n",
       "</div>"
      ],
      "text/plain": [
       "                                          categories  hasPerk  \\\n",
       "0  [{'id': '4bf58dd8d48988d130941735', 'name': 'B...    False   \n",
       "1  [{'id': '4bf58dd8d48988d1fa931735', 'name': 'H...    False   \n",
       "2  [{'id': '4bf58dd8d48988d1fa931735', 'name': 'H...    False   \n",
       "3  [{'id': '4bf58dd8d48988d1fa931735', 'name': 'H...    False   \n",
       "4  [{'id': '4bf58dd8d48988d1f8931735', 'name': 'B...    False   \n",
       "\n",
       "                         id      location.address location.cc location.city  \\\n",
       "0  4d963bbc2bd6f04d1bcd3150           4 norte 646          CL  Viña del Mar   \n",
       "1  5a6e326660d11b2a4c0ae95a                   NaN          CL  Viña del Mar   \n",
       "2  4c938ad972dd224bf5749191  Avda. San Martin 476          CL  Viña del Mar   \n",
       "3  4d6917ce4c4637045f2f9db3                   NaN          CL           NaN   \n",
       "4  5247693911d2f7417c1df973                   NaN          CL           NaN   \n",
       "\n",
       "  location.country location.crossStreet  location.distance  \\\n",
       "0            Chile           1 poniente                501   \n",
       "1            Chile                  NaN                197   \n",
       "2            Chile                  NaN                383   \n",
       "3            Chile                  NaN                130   \n",
       "4            Chile                  NaN                156   \n",
       "\n",
       "                           location.formattedAddress  \\\n",
       "0  [4 norte 646 (1 poniente), Viña del Mar, Valpa...   \n",
       "1          [2520000 Viña del Mar, Valparaíso, Chile]   \n",
       "2  [Avda. San Martin 476, Viña del Mar, Valparaís...   \n",
       "3                                            [Chile]   \n",
       "4                                            [Chile]   \n",
       "\n",
       "                             location.labeledLatLngs  location.lat  \\\n",
       "0  [{'label': 'display', 'lat': -33.0194478948408...    -33.019448   \n",
       "1  [{'label': 'display', 'lat': -33.0148735064648...    -33.014874   \n",
       "2  [{'label': 'display', 'lat': -33.0167117939947...    -33.016712   \n",
       "3  [{'label': 'display', 'lat': -33.0163576334832...    -33.016358   \n",
       "4  [{'label': 'display', 'lat': -33.015354, 'lng'...    -33.015354   \n",
       "\n",
       "   location.lng location.postalCode location.state                     name  \\\n",
       "0    -71.551786                 NaN     Valparaíso       Hotel Mare Nostrum   \n",
       "1    -71.555657             2520000     Valparaíso   Hotel Atton San Martin   \n",
       "2    -71.557261                 NaN     Valparaíso             Hotel Ankara   \n",
       "3    -71.553342                 NaN            NaN          Hotel Vancouver   \n",
       "4    -71.555245                 NaN            NaN  Apart Hotel Rent A Home   \n",
       "\n",
       "     referralId  \n",
       "0  v-1567748183  \n",
       "1  v-1567748183  \n",
       "2  v-1567748183  \n",
       "3  v-1567748183  \n",
       "4  v-1567748183  "
      ]
     },
     "execution_count": 126,
     "metadata": {},
     "output_type": "execute_result"
    }
   ],
   "source": [
    "# assign relevant part of JSON to venues\n",
    "venues = results['response']['venues']\n",
    "\n",
    "# Tranform venues into a dataframe\n",
    "dataframe = json_normalize(venues)\n",
    "dataframe.head()\n",
    "#len(dataframe)"
   ]
  },
  {
   "cell_type": "code",
   "execution_count": 127,
   "metadata": {},
   "outputs": [
    {
     "data": {
      "text/html": [
       "<div>\n",
       "<style scoped>\n",
       "    .dataframe tbody tr th:only-of-type {\n",
       "        vertical-align: middle;\n",
       "    }\n",
       "\n",
       "    .dataframe tbody tr th {\n",
       "        vertical-align: top;\n",
       "    }\n",
       "\n",
       "    .dataframe thead th {\n",
       "        text-align: right;\n",
       "    }\n",
       "</style>\n",
       "<table border=\"1\" class=\"dataframe\">\n",
       "  <thead>\n",
       "    <tr style=\"text-align: right;\">\n",
       "      <th></th>\n",
       "      <th>name</th>\n",
       "      <th>categories</th>\n",
       "      <th>address</th>\n",
       "      <th>cc</th>\n",
       "      <th>city</th>\n",
       "      <th>country</th>\n",
       "      <th>crossStreet</th>\n",
       "      <th>distance</th>\n",
       "      <th>formattedAddress</th>\n",
       "      <th>labeledLatLngs</th>\n",
       "      <th>lat</th>\n",
       "      <th>lng</th>\n",
       "      <th>postalCode</th>\n",
       "      <th>state</th>\n",
       "      <th>id</th>\n",
       "    </tr>\n",
       "  </thead>\n",
       "  <tbody>\n",
       "    <tr>\n",
       "      <th>0</th>\n",
       "      <td>Hotel Mare Nostrum</td>\n",
       "      <td>Building</td>\n",
       "      <td>4 norte 646</td>\n",
       "      <td>CL</td>\n",
       "      <td>Viña del Mar</td>\n",
       "      <td>Chile</td>\n",
       "      <td>1 poniente</td>\n",
       "      <td>501</td>\n",
       "      <td>[4 norte 646 (1 poniente), Viña del Mar, Valpa...</td>\n",
       "      <td>[{'label': 'display', 'lat': -33.0194478948408...</td>\n",
       "      <td>-33.019448</td>\n",
       "      <td>-71.551786</td>\n",
       "      <td>NaN</td>\n",
       "      <td>Valparaíso</td>\n",
       "      <td>4d963bbc2bd6f04d1bcd3150</td>\n",
       "    </tr>\n",
       "    <tr>\n",
       "      <th>1</th>\n",
       "      <td>Hotel Atton San Martin</td>\n",
       "      <td>Hotel</td>\n",
       "      <td>NaN</td>\n",
       "      <td>CL</td>\n",
       "      <td>Viña del Mar</td>\n",
       "      <td>Chile</td>\n",
       "      <td>NaN</td>\n",
       "      <td>197</td>\n",
       "      <td>[2520000 Viña del Mar, Valparaíso, Chile]</td>\n",
       "      <td>[{'label': 'display', 'lat': -33.0148735064648...</td>\n",
       "      <td>-33.014874</td>\n",
       "      <td>-71.555657</td>\n",
       "      <td>2520000</td>\n",
       "      <td>Valparaíso</td>\n",
       "      <td>5a6e326660d11b2a4c0ae95a</td>\n",
       "    </tr>\n",
       "    <tr>\n",
       "      <th>2</th>\n",
       "      <td>Hotel Ankara</td>\n",
       "      <td>Hotel</td>\n",
       "      <td>Avda. San Martin 476</td>\n",
       "      <td>CL</td>\n",
       "      <td>Viña del Mar</td>\n",
       "      <td>Chile</td>\n",
       "      <td>NaN</td>\n",
       "      <td>383</td>\n",
       "      <td>[Avda. San Martin 476, Viña del Mar, Valparaís...</td>\n",
       "      <td>[{'label': 'display', 'lat': -33.0167117939947...</td>\n",
       "      <td>-33.016712</td>\n",
       "      <td>-71.557261</td>\n",
       "      <td>NaN</td>\n",
       "      <td>Valparaíso</td>\n",
       "      <td>4c938ad972dd224bf5749191</td>\n",
       "    </tr>\n",
       "    <tr>\n",
       "      <th>3</th>\n",
       "      <td>Hotel Vancouver</td>\n",
       "      <td>Hotel</td>\n",
       "      <td>NaN</td>\n",
       "      <td>CL</td>\n",
       "      <td>NaN</td>\n",
       "      <td>Chile</td>\n",
       "      <td>NaN</td>\n",
       "      <td>130</td>\n",
       "      <td>[Chile]</td>\n",
       "      <td>[{'label': 'display', 'lat': -33.0163576334832...</td>\n",
       "      <td>-33.016358</td>\n",
       "      <td>-71.553342</td>\n",
       "      <td>NaN</td>\n",
       "      <td>NaN</td>\n",
       "      <td>4d6917ce4c4637045f2f9db3</td>\n",
       "    </tr>\n",
       "    <tr>\n",
       "      <th>4</th>\n",
       "      <td>Apart Hotel Rent A Home</td>\n",
       "      <td>Bed &amp; Breakfast</td>\n",
       "      <td>NaN</td>\n",
       "      <td>CL</td>\n",
       "      <td>NaN</td>\n",
       "      <td>Chile</td>\n",
       "      <td>NaN</td>\n",
       "      <td>156</td>\n",
       "      <td>[Chile]</td>\n",
       "      <td>[{'label': 'display', 'lat': -33.015354, 'lng'...</td>\n",
       "      <td>-33.015354</td>\n",
       "      <td>-71.555245</td>\n",
       "      <td>NaN</td>\n",
       "      <td>NaN</td>\n",
       "      <td>5247693911d2f7417c1df973</td>\n",
       "    </tr>\n",
       "  </tbody>\n",
       "</table>\n",
       "</div>"
      ],
      "text/plain": [
       "                      name       categories               address  cc  \\\n",
       "0       Hotel Mare Nostrum         Building           4 norte 646  CL   \n",
       "1   Hotel Atton San Martin            Hotel                   NaN  CL   \n",
       "2             Hotel Ankara            Hotel  Avda. San Martin 476  CL   \n",
       "3          Hotel Vancouver            Hotel                   NaN  CL   \n",
       "4  Apart Hotel Rent A Home  Bed & Breakfast                   NaN  CL   \n",
       "\n",
       "           city country crossStreet  distance  \\\n",
       "0  Viña del Mar   Chile  1 poniente       501   \n",
       "1  Viña del Mar   Chile         NaN       197   \n",
       "2  Viña del Mar   Chile         NaN       383   \n",
       "3           NaN   Chile         NaN       130   \n",
       "4           NaN   Chile         NaN       156   \n",
       "\n",
       "                                    formattedAddress  \\\n",
       "0  [4 norte 646 (1 poniente), Viña del Mar, Valpa...   \n",
       "1          [2520000 Viña del Mar, Valparaíso, Chile]   \n",
       "2  [Avda. San Martin 476, Viña del Mar, Valparaís...   \n",
       "3                                            [Chile]   \n",
       "4                                            [Chile]   \n",
       "\n",
       "                                      labeledLatLngs        lat        lng  \\\n",
       "0  [{'label': 'display', 'lat': -33.0194478948408... -33.019448 -71.551786   \n",
       "1  [{'label': 'display', 'lat': -33.0148735064648... -33.014874 -71.555657   \n",
       "2  [{'label': 'display', 'lat': -33.0167117939947... -33.016712 -71.557261   \n",
       "3  [{'label': 'display', 'lat': -33.0163576334832... -33.016358 -71.553342   \n",
       "4  [{'label': 'display', 'lat': -33.015354, 'lng'... -33.015354 -71.555245   \n",
       "\n",
       "  postalCode       state                        id  \n",
       "0        NaN  Valparaíso  4d963bbc2bd6f04d1bcd3150  \n",
       "1    2520000  Valparaíso  5a6e326660d11b2a4c0ae95a  \n",
       "2        NaN  Valparaíso  4c938ad972dd224bf5749191  \n",
       "3        NaN         NaN  4d6917ce4c4637045f2f9db3  \n",
       "4        NaN         NaN  5247693911d2f7417c1df973  "
      ]
     },
     "execution_count": 127,
     "metadata": {},
     "output_type": "execute_result"
    }
   ],
   "source": [
    "# keep only columns that include venue name, and anything that is associated with location\n",
    "filtered_columns = ['name', 'categories'] + [col for col in dataframe.columns if col.startswith('location.')] + ['id']\n",
    "df_filtered = dataframe.loc[:, filtered_columns]\n",
    "\n",
    "# function that extracts the category of the venue\n",
    "def get_category_type(row):\n",
    "    try:\n",
    "        categories_list = row['categories']\n",
    "    except:\n",
    "        categories_list = row['venue.categories']\n",
    "        \n",
    "    if len(categories_list) == 0:\n",
    "        return None\n",
    "    else:\n",
    "        return categories_list[0]['name']\n",
    "\n",
    "# filter the category for each row\n",
    "df_filtered['categories'] = df_filtered.apply(get_category_type, axis=1)\n",
    "\n",
    "#print(dataframe_filtered)\n",
    "\n",
    "# clean column names by keeping only last term\n",
    "df_filtered.columns = [column.split('.')[-1] for column in df_filtered.columns]\n",
    "\n",
    "\n",
    "df_filtered.head()"
   ]
  },
  {
   "cell_type": "code",
   "execution_count": 48,
   "metadata": {},
   "outputs": [],
   "source": [
    "#df_filtered.name"
   ]
  },
  {
   "cell_type": "code",
   "execution_count": 49,
   "metadata": {},
   "outputs": [
    {
     "data": {
      "text/html": [
       "<div style=\"width:100%;\"><div style=\"position:relative;width:100%;height:0;padding-bottom:60%;\"><iframe src=\"data:text/html;charset=utf-8;base64,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\" style=\"position:absolute;width:100%;height:100%;left:0;top:0;border:none !important;\" allowfullscreen webkitallowfullscreen mozallowfullscreen></iframe></div></div>"
      ],
      "text/plain": [
       "<folium.folium.Map at 0x2a31f3144e0>"
      ]
     },
     "execution_count": 49,
     "metadata": {},
     "output_type": "execute_result"
    }
   ],
   "source": [
    "venues_map = folium.Map(location=[latitude, longitude], zoom_start=13) # generate map centred around the Conrad Hotel\n",
    "\n",
    "# add a red circle marker to represent the Conrad Hotel\n",
    "#folium.features.CircleMarker(\n",
    "folium.CircleMarker(\n",
    "    [latitude, longitude],\n",
    "    radius=10,\n",
    "    color='black',\n",
    "    popup='Viña del Mar',\n",
    "    fill = True,\n",
    "    fill_color = 'red',\n",
    "    fill_opacity = 0.6\n",
    ").add_to(venues_map)\n",
    "\n",
    "# add the Italian restaurants as blue circle markers\n",
    "for lat, lng, label in zip(df_filtered.lat, df_filtered.lng, df_filtered.name):\n",
    "#    folium.features.CircleMarker(\n",
    "    folium.CircleMarker(\n",
    "        [lat, lng],\n",
    "        radius=5,\n",
    "        color='blue',\n",
    "        popup=label,\n",
    "        fill = True,\n",
    "        fill_color='blue',\n",
    "        fill_opacity=0.6\n",
    "    ).add_to(venues_map)\n",
    "\n",
    "# display map\n",
    "venues_map"
   ]
  },
  {
   "cell_type": "markdown",
   "metadata": {},
   "source": [
    "\n",
    "\n",
    "### We select the  'Apart Hotel Rent A Home'\n",
    "\n",
    "#### 2.- Now we search the number of restaurant around of 'Hotel Terra'"
   ]
  },
  {
   "cell_type": "code",
   "execution_count": 53,
   "metadata": {},
   "outputs": [
    {
     "data": {
      "text/html": [
       "<div>\n",
       "<style scoped>\n",
       "    .dataframe tbody tr th:only-of-type {\n",
       "        vertical-align: middle;\n",
       "    }\n",
       "\n",
       "    .dataframe tbody tr th {\n",
       "        vertical-align: top;\n",
       "    }\n",
       "\n",
       "    .dataframe thead th {\n",
       "        text-align: right;\n",
       "    }\n",
       "</style>\n",
       "<table border=\"1\" class=\"dataframe\">\n",
       "  <thead>\n",
       "    <tr style=\"text-align: right;\">\n",
       "      <th></th>\n",
       "      <th>lat</th>\n",
       "      <th>lng</th>\n",
       "    </tr>\n",
       "  </thead>\n",
       "  <tbody>\n",
       "    <tr>\n",
       "      <th>4</th>\n",
       "      <td>-33.015354</td>\n",
       "      <td>-71.555245</td>\n",
       "    </tr>\n",
       "  </tbody>\n",
       "</table>\n",
       "</div>"
      ],
      "text/plain": [
       "         lat        lng\n",
       "4 -33.015354 -71.555245"
      ]
     },
     "execution_count": 53,
     "metadata": {},
     "output_type": "execute_result"
    }
   ],
   "source": [
    "# We take the latitude and longitude of 'Apart Hotel Rent A Home'\n",
    "\n",
    "LatLng = df_filtered.loc[df_filtered['name'] == 'Apart Hotel Rent A Home'].loc[:, ['lat', 'lng'] ]\n",
    "#id = ids.loc[:, ['lat', 'lng'] ]\n",
    "LatLng"
   ]
  },
  {
   "cell_type": "code",
   "execution_count": 77,
   "metadata": {},
   "outputs": [],
   "source": [
    "# We search the number of Restaurant arraund of 'Apart Hotel Rent A Home' Hotel\n",
    "latitude   = LatLng.lat.item()\n",
    "longitude  = LatLng.lng.item()\n",
    "\n",
    "search_query = 'Restaurant'\n",
    "radius = 500\n",
    "\n",
    "url = 'https://api.foursquare.com/v2/venues/search?client_id={}&client_secret={}&ll={},{}&v={}&query={}&radius={}&limit={}'.format(CLIENT_ID, CLIENT_SECRET, latitude, longitude, VERSION, search_query, radius, LIMIT)\n"
   ]
  },
  {
   "cell_type": "code",
   "execution_count": 64,
   "metadata": {},
   "outputs": [],
   "source": [
    "# The result of query search\n",
    "results = requests.get(url).json()\n",
    "#results"
   ]
  },
  {
   "cell_type": "code",
   "execution_count": 67,
   "metadata": {},
   "outputs": [
    {
     "name": "stdout",
     "output_type": "stream",
     "text": [
      "The number of restaurant around of 'Apart Hotel Rent A Home' is: 30\n"
     ]
    }
   ],
   "source": [
    "# assign relevant part of JSON to venues\n",
    "venues = results['response']['venues']\n",
    "\n",
    "# Tranform venues into a dataframe\n",
    "dataframe = json_normalize(venues)\n",
    "\n",
    "print(\"The number of restaurant around of 'Apart Hotel Rent A Home' is:\", len(dataframe))\n",
    "#dataframe.shape"
   ]
  },
  {
   "cell_type": "markdown",
   "metadata": {},
   "source": [
    "\n",
    "\n",
    "\n",
    "# Now we search the number of restaurants in Iquique\n",
    "\n",
    "#### 1.- We search a Hotel in Iquique"
   ]
  },
  {
   "cell_type": "code",
   "execution_count": 68,
   "metadata": {},
   "outputs": [],
   "source": [
    "# The coordinates of Iquique city\n",
    "\n",
    "latitude   = -20.2185663\n",
    "longitude  = -70.1499344"
   ]
  },
  {
   "cell_type": "code",
   "execution_count": 69,
   "metadata": {},
   "outputs": [
    {
     "name": "stdout",
     "output_type": "stream",
     "text": [
      "Hotel .... OK!\n"
     ]
    },
    {
     "data": {
      "text/plain": [
       "'https://api.foursquare.com/v2/venues/search?client_id=WDKVMU4XRDDSFDYUT2EZT5J1HEOY2GZJSED3DERKVXZVZQPB&client_secret=0JETOZ2PW3A21GPGVWIC02UKJM3JMOEUNQK0NAL0P4HSO04F&ll=-20.2185663,-70.1499344&v=20190825&query=Hotel&radius=500&limit=30'"
      ]
     },
     "execution_count": 69,
     "metadata": {},
     "output_type": "execute_result"
    }
   ],
   "source": [
    "search_query = ''\n",
    "search_query = 'Hotel'\n",
    "radius = 500\n",
    "print(search_query + ' .... OK!')\n",
    "\n",
    "url = 'https://api.foursquare.com/v2/venues/search?client_id={}&client_secret={}&ll={},{}&v={}&query={}&radius={}&limit={}'.format(CLIENT_ID, CLIENT_SECRET, latitude, longitude, VERSION, search_query, radius, LIMIT)\n",
    "url"
   ]
  },
  {
   "cell_type": "code",
   "execution_count": 72,
   "metadata": {},
   "outputs": [],
   "source": [
    "results = requests.get(url).json()\n",
    "#results"
   ]
  },
  {
   "cell_type": "code",
   "execution_count": 73,
   "metadata": {},
   "outputs": [
    {
     "data": {
      "text/plain": [
       "30"
      ]
     },
     "execution_count": 73,
     "metadata": {},
     "output_type": "execute_result"
    }
   ],
   "source": [
    "# assign relevant part of JSON to venues\n",
    "venues = results['response']['venues']\n",
    "\n",
    "# Tranform venues into a dataframe\n",
    "dataframe = json_normalize(venues)\n",
    "#dataframe.head()\n",
    "len(dataframe)\n",
    "#dataframe.shape"
   ]
  },
  {
   "cell_type": "code",
   "execution_count": 74,
   "metadata": {},
   "outputs": [
    {
     "data": {
      "text/html": [
       "<div>\n",
       "<style scoped>\n",
       "    .dataframe tbody tr th:only-of-type {\n",
       "        vertical-align: middle;\n",
       "    }\n",
       "\n",
       "    .dataframe tbody tr th {\n",
       "        vertical-align: top;\n",
       "    }\n",
       "\n",
       "    .dataframe thead th {\n",
       "        text-align: right;\n",
       "    }\n",
       "</style>\n",
       "<table border=\"1\" class=\"dataframe\">\n",
       "  <thead>\n",
       "    <tr style=\"text-align: right;\">\n",
       "      <th></th>\n",
       "      <th>name</th>\n",
       "      <th>categories</th>\n",
       "      <th>address</th>\n",
       "      <th>cc</th>\n",
       "      <th>city</th>\n",
       "      <th>country</th>\n",
       "      <th>crossStreet</th>\n",
       "      <th>distance</th>\n",
       "      <th>formattedAddress</th>\n",
       "      <th>labeledLatLngs</th>\n",
       "      <th>lat</th>\n",
       "      <th>lng</th>\n",
       "      <th>postalCode</th>\n",
       "      <th>state</th>\n",
       "      <th>id</th>\n",
       "    </tr>\n",
       "  </thead>\n",
       "  <tbody>\n",
       "    <tr>\n",
       "      <th>0</th>\n",
       "      <td>Hotel Tikoo</td>\n",
       "      <td>Hotel</td>\n",
       "      <td>Ramírez 1051</td>\n",
       "      <td>CL</td>\n",
       "      <td>Iquique</td>\n",
       "      <td>Chile</td>\n",
       "      <td>NaN</td>\n",
       "      <td>75</td>\n",
       "      <td>[Ramírez 1051, 1101043 Iquique, Tarapacá, Chile]</td>\n",
       "      <td>[{'label': 'display', 'lat': -20.2179947192690...</td>\n",
       "      <td>-20.217995</td>\n",
       "      <td>-70.149546</td>\n",
       "      <td>1101043</td>\n",
       "      <td>Tarapacá</td>\n",
       "      <td>4f255738e4b047657a9a5714</td>\n",
       "    </tr>\n",
       "    <tr>\n",
       "      <th>1</th>\n",
       "      <td>Hotel Barros Arana</td>\n",
       "      <td>Hotel</td>\n",
       "      <td>Barros Arana 1302</td>\n",
       "      <td>CL</td>\n",
       "      <td>Iquique</td>\n",
       "      <td>Chile</td>\n",
       "      <td>NaN</td>\n",
       "      <td>356</td>\n",
       "      <td>[Barros Arana 1302, Iquique, Tarapacá, Chile]</td>\n",
       "      <td>[{'label': 'display', 'lat': -20.2207702759607...</td>\n",
       "      <td>-20.220770</td>\n",
       "      <td>-70.147457</td>\n",
       "      <td>NaN</td>\n",
       "      <td>Tarapacá</td>\n",
       "      <td>4dd30b72e4cd1b1913103926</td>\n",
       "    </tr>\n",
       "    <tr>\n",
       "      <th>2</th>\n",
       "      <td>HOTEL ESMERALDA</td>\n",
       "      <td>Bed &amp; Breakfast</td>\n",
       "      <td>OBISPO LABBE 1386</td>\n",
       "      <td>CL</td>\n",
       "      <td>Iquique</td>\n",
       "      <td>Chile</td>\n",
       "      <td>RIQUELME</td>\n",
       "      <td>299</td>\n",
       "      <td>[OBISPO LABBE 1386 (RIQUELME), 1101330 Iquique...</td>\n",
       "      <td>[{'label': 'display', 'lat': -20.2212044641641...</td>\n",
       "      <td>-20.221204</td>\n",
       "      <td>-70.150502</td>\n",
       "      <td>1101330</td>\n",
       "      <td>Tarapacá</td>\n",
       "      <td>52fe2a34498efa6401c60fbb</td>\n",
       "    </tr>\n",
       "    <tr>\n",
       "      <th>3</th>\n",
       "      <td>Hotel Plaza</td>\n",
       "      <td>Hotel</td>\n",
       "      <td>NaN</td>\n",
       "      <td>CL</td>\n",
       "      <td>Iquique</td>\n",
       "      <td>Chile</td>\n",
       "      <td>NaN</td>\n",
       "      <td>263</td>\n",
       "      <td>[Iquique, Región de Ta, Chile]</td>\n",
       "      <td>[{'label': 'display', 'lat': -20.2175511957617...</td>\n",
       "      <td>-20.217551</td>\n",
       "      <td>-70.152212</td>\n",
       "      <td>NaN</td>\n",
       "      <td>Región de Ta</td>\n",
       "      <td>4e5fa8b9d164ed2b48f192ba</td>\n",
       "    </tr>\n",
       "    <tr>\n",
       "      <th>4</th>\n",
       "      <td>Hotel Inti-llanka</td>\n",
       "      <td>Hotel Bar</td>\n",
       "      <td>Obispo Labbe</td>\n",
       "      <td>CL</td>\n",
       "      <td>Iquique</td>\n",
       "      <td>Chile</td>\n",
       "      <td>Almirante Latorre</td>\n",
       "      <td>307</td>\n",
       "      <td>[Obispo Labbe (Almirante Latorre), Iquique, Ta...</td>\n",
       "      <td>[{'label': 'display', 'lat': -20.2158266926146...</td>\n",
       "      <td>-20.215827</td>\n",
       "      <td>-70.150273</td>\n",
       "      <td>NaN</td>\n",
       "      <td>Tarapacá</td>\n",
       "      <td>4bb3c5a514cfd13abc8616ab</td>\n",
       "    </tr>\n",
       "  </tbody>\n",
       "</table>\n",
       "</div>"
      ],
      "text/plain": [
       "                 name       categories            address  cc     city  \\\n",
       "0         Hotel Tikoo            Hotel       Ramírez 1051  CL  Iquique   \n",
       "1  Hotel Barros Arana            Hotel  Barros Arana 1302  CL  Iquique   \n",
       "2     HOTEL ESMERALDA  Bed & Breakfast  OBISPO LABBE 1386  CL  Iquique   \n",
       "3         Hotel Plaza            Hotel                NaN  CL  Iquique   \n",
       "4   Hotel Inti-llanka        Hotel Bar       Obispo Labbe  CL  Iquique   \n",
       "\n",
       "  country        crossStreet  distance  \\\n",
       "0   Chile                NaN        75   \n",
       "1   Chile                NaN       356   \n",
       "2   Chile           RIQUELME       299   \n",
       "3   Chile                NaN       263   \n",
       "4   Chile  Almirante Latorre       307   \n",
       "\n",
       "                                    formattedAddress  \\\n",
       "0   [Ramírez 1051, 1101043 Iquique, Tarapacá, Chile]   \n",
       "1      [Barros Arana 1302, Iquique, Tarapacá, Chile]   \n",
       "2  [OBISPO LABBE 1386 (RIQUELME), 1101330 Iquique...   \n",
       "3                     [Iquique, Región de Ta, Chile]   \n",
       "4  [Obispo Labbe (Almirante Latorre), Iquique, Ta...   \n",
       "\n",
       "                                      labeledLatLngs        lat        lng  \\\n",
       "0  [{'label': 'display', 'lat': -20.2179947192690... -20.217995 -70.149546   \n",
       "1  [{'label': 'display', 'lat': -20.2207702759607... -20.220770 -70.147457   \n",
       "2  [{'label': 'display', 'lat': -20.2212044641641... -20.221204 -70.150502   \n",
       "3  [{'label': 'display', 'lat': -20.2175511957617... -20.217551 -70.152212   \n",
       "4  [{'label': 'display', 'lat': -20.2158266926146... -20.215827 -70.150273   \n",
       "\n",
       "  postalCode         state                        id  \n",
       "0    1101043      Tarapacá  4f255738e4b047657a9a5714  \n",
       "1        NaN      Tarapacá  4dd30b72e4cd1b1913103926  \n",
       "2    1101330      Tarapacá  52fe2a34498efa6401c60fbb  \n",
       "3        NaN  Región de Ta  4e5fa8b9d164ed2b48f192ba  \n",
       "4        NaN      Tarapacá  4bb3c5a514cfd13abc8616ab  "
      ]
     },
     "execution_count": 74,
     "metadata": {},
     "output_type": "execute_result"
    }
   ],
   "source": [
    "# keep only columns that include venue name, and anything that is associated with location\n",
    "filtered_columns = ['name', 'categories'] + [col for col in dataframe.columns if col.startswith('location.')] + ['id']\n",
    "df_filtered = dataframe.loc[:, filtered_columns]\n",
    "\n",
    "# function that extracts the category of the venue\n",
    "def get_category_type(row):\n",
    "    try:\n",
    "        categories_list = row['categories']\n",
    "    except:\n",
    "        categories_list = row['venue.categories']\n",
    "        \n",
    "    if len(categories_list) == 0:\n",
    "        return None\n",
    "    else:\n",
    "        return categories_list[0]['name']\n",
    "\n",
    "# filter the category for each row\n",
    "df_filtered['categories'] = df_filtered.apply(get_category_type, axis=1)\n",
    "\n",
    "#print(dataframe_filtered)\n",
    "\n",
    "# clean column names by keeping only last term\n",
    "df_filtered.columns = [column.split('.')[-1] for column in df_filtered.columns]\n",
    "\n",
    "\n",
    "df_filtered.head()"
   ]
  },
  {
   "cell_type": "code",
   "execution_count": 75,
   "metadata": {},
   "outputs": [
    {
     "data": {
      "text/html": [
       "<div style=\"width:100%;\"><div style=\"position:relative;width:100%;height:0;padding-bottom:60%;\"><iframe src=\"data:text/html;charset=utf-8;base64,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\" style=\"position:absolute;width:100%;height:100%;left:0;top:0;border:none !important;\" allowfullscreen webkitallowfullscreen mozallowfullscreen></iframe></div></div>"
      ],
      "text/plain": [
       "<folium.folium.Map at 0x2a31f6ea5f8>"
      ]
     },
     "execution_count": 75,
     "metadata": {},
     "output_type": "execute_result"
    }
   ],
   "source": [
    "venues_map = folium.Map(location=[latitude, longitude], zoom_start=13) # generate map centred around the Conrad Hotel\n",
    "\n",
    "# add a red circle marker to represent the Conrad Hotel\n",
    "#folium.features.CircleMarker(\n",
    "folium.CircleMarker(\n",
    "    [latitude, longitude],\n",
    "    radius=10,\n",
    "    color='black',\n",
    "    popup='Iquique',\n",
    "    fill = True,\n",
    "    fill_color = 'red',\n",
    "    fill_opacity = 0.6\n",
    ").add_to(venues_map)\n",
    "\n",
    "# add the Italian restaurants as blue circle markers\n",
    "for lat, lng, label in zip(df_filtered.lat, df_filtered.lng, df_filtered.name):\n",
    "#    folium.features.CircleMarker(\n",
    "    folium.CircleMarker(\n",
    "        [lat, lng],\n",
    "        radius=5,\n",
    "        color='blue',\n",
    "        popup=label,\n",
    "        fill = True,\n",
    "        fill_color='blue',\n",
    "        fill_opacity=0.6\n",
    "    ).add_to(venues_map)\n",
    "\n",
    "# display map\n",
    "venues_map"
   ]
  },
  {
   "cell_type": "markdown",
   "metadata": {},
   "source": [
    "### The Hotel more closely to the beach is 'Hotel Terra'\n",
    "\n",
    "\n",
    "#### 2.- Now we search the number of restaurant around of 'Hotel Terra'\n"
   ]
  },
  {
   "cell_type": "code",
   "execution_count": 107,
   "metadata": {},
   "outputs": [
    {
     "data": {
      "text/plain": [
       "lat   -20.2219\n",
       "lng   -70.1519\n",
       "Name: 28, dtype: object"
      ]
     },
     "execution_count": 107,
     "metadata": {},
     "output_type": "execute_result"
    }
   ],
   "source": [
    "# We take the latitude and longitude of 'Hotel Terra'\n",
    "\n",
    "LatLng = df_filtered.loc[df_filtered['name'] == 'Hotel Casa Baquedano'].loc[28, ['lat', 'lng'] ]\n",
    "#id = ids.loc[:, ['lat', 'lng'] ]\n",
    "LatLng"
   ]
  },
  {
   "cell_type": "code",
   "execution_count": 110,
   "metadata": {},
   "outputs": [],
   "source": [
    "# We search the number of Restaurant arraund of 'Hotel Casa Baquedano' Hotel\n",
    "latitude   = LatLng.lat.item()\n",
    "longitude  = LatLng.lng.item()\n",
    "\n",
    "search_query = 'Restaurant'\n",
    "radius = 500\n",
    "\n",
    "url = 'https://api.foursquare.com/v2/venues/search?client_id={}&client_secret={}&ll={},{}&v={}&query={}&radius={}&limit={}'.format(CLIENT_ID, CLIENT_SECRET, latitude, longitude, VERSION, search_query, radius, LIMIT)\n"
   ]
  },
  {
   "cell_type": "code",
   "execution_count": 111,
   "metadata": {},
   "outputs": [],
   "source": [
    "# The result of query search\n",
    "results = requests.get(url).json()\n",
    "#results"
   ]
  },
  {
   "cell_type": "code",
   "execution_count": 113,
   "metadata": {},
   "outputs": [
    {
     "name": "stdout",
     "output_type": "stream",
     "text": [
      "The number of restaurant around of 'Hotel Casa Baquedano' is: 18\n"
     ]
    }
   ],
   "source": [
    "# assign relevant part of JSON to venues\n",
    "venues = results['response']['venues']\n",
    "\n",
    "# Tranform venues into a dataframe\n",
    "dataframe = json_normalize(venues)\n",
    "\n",
    "print(\"The number of restaurant around of 'Hotel Casa Baquedano' is:\", len(dataframe))"
   ]
  },
  {
   "cell_type": "code",
   "execution_count": null,
   "metadata": {},
   "outputs": [],
   "source": []
  },
  {
   "cell_type": "markdown",
   "metadata": {},
   "source": [
    "# Conclusion"
   ]
  },
  {
   "cell_type": "markdown",
   "metadata": {},
   "source": [
    "The hotel in 'Viña del Mar' have 30 restaurant around. And the hotel in Iquique just have 18 restaurant around closely.\n",
    "So, i will travel to the city of Viña del Mar\n"
   ]
  },
  {
   "cell_type": "code",
   "execution_count": null,
   "metadata": {},
   "outputs": [],
   "source": []
  },
  {
   "cell_type": "code",
   "execution_count": null,
   "metadata": {},
   "outputs": [],
   "source": []
  },
  {
   "cell_type": "code",
   "execution_count": null,
   "metadata": {},
   "outputs": [],
   "source": []
  },
  {
   "cell_type": "code",
   "execution_count": null,
   "metadata": {},
   "outputs": [],
   "source": []
  },
  {
   "cell_type": "code",
   "execution_count": null,
   "metadata": {},
   "outputs": [],
   "source": []
  },
  {
   "cell_type": "code",
   "execution_count": null,
   "metadata": {},
   "outputs": [],
   "source": []
  },
  {
   "cell_type": "code",
   "execution_count": null,
   "metadata": {},
   "outputs": [],
   "source": []
  },
  {
   "cell_type": "code",
   "execution_count": null,
   "metadata": {},
   "outputs": [],
   "source": []
  },
  {
   "cell_type": "code",
   "execution_count": null,
   "metadata": {},
   "outputs": [],
   "source": []
  }
 ],
 "metadata": {
  "kernelspec": {
   "display_name": "Python 3",
   "language": "python",
   "name": "python3"
  },
  "language_info": {
   "codemirror_mode": {
    "name": "ipython",
    "version": 3
   },
   "file_extension": ".py",
   "mimetype": "text/x-python",
   "name": "python",
   "nbconvert_exporter": "python",
   "pygments_lexer": "ipython3",
   "version": "3.7.3"
  }
 },
 "nbformat": 4,
 "nbformat_minor": 2
}
